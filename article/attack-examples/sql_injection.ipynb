{
 "cells": [
  {
   "cell_type": "markdown",
   "id": "dd9705e6",
   "metadata": {},
   "source": [
    "Based on: https://github.com/vanna-ai/vanna/blob/main/src/vanna/ollama/ollama.py"
   ]
  },
  {
   "cell_type": "code",
   "execution_count": 16,
   "id": "b103c84f",
   "metadata": {},
   "outputs": [],
   "source": [
    "import re\n",
    "\n",
    "def perform_first_regex_search(llm_response: str):\n",
    "    first_regex_search = re.search(r\"```sql\\n((.|\\n)*?)(?=;|\\[|```)\", llm_response, re.DOTALL)\n",
    "    if first_regex_search:\n",
    "        print(first_regex_search.group(1))\n",
    "\n",
    "def perform_second_regex_search(llm_response: str):\n",
    "    second_regex_search = re.search(r'(select|(with.*?as \\())(.*?)(?=;|\\[|```)',\n",
    "            llm_response,\n",
    "            re.IGNORECASE | re.DOTALL)\n",
    "    if second_regex_search:\n",
    "        print(second_regex_search.group(0))"
   ]
  },
  {
   "cell_type": "code",
   "execution_count": 35,
   "id": "5d7d6233",
   "metadata": {},
   "outputs": [
    {
     "name": "stderr",
     "output_type": "stream",
     "text": [
      "<>:1: SyntaxWarning: invalid escape sequence '\\`'\n",
      "<>:1: SyntaxWarning: invalid escape sequence '\\`'\n",
      "/var/folders/nj/yxdzffl952qbglpsnwvv19q80000gn/T/ipykernel_77194/530610733.py:1: SyntaxWarning: invalid escape sequence '\\`'\n",
      "  llm_response = \"\"\"\\`\\`\\`sql\n"
     ]
    }
   ],
   "source": [
    "llm_response = \"\"\"\\`\\`\\`sql\n",
    "SELECT COUNT(*) \n",
    "FROM product\n",
    "WHERE status = 'RMA;SELECT * FROM USERS;'\n",
    "\\`\\`\\`\"\"\""
   ]
  },
  {
   "cell_type": "code",
   "execution_count": 36,
   "id": "64afc805",
   "metadata": {},
   "outputs": [],
   "source": [
    "perform_first_regex_search(llm_response)"
   ]
  },
  {
   "cell_type": "code",
   "execution_count": 37,
   "id": "a4a771b2",
   "metadata": {},
   "outputs": [
    {
     "name": "stdout",
     "output_type": "stream",
     "text": [
      "SELECT COUNT(*) \n",
      "FROM product\n",
      "WHERE status = 'RMA\n"
     ]
    }
   ],
   "source": [
    "perform_second_regex_search(llm_response)"
   ]
  },
  {
   "cell_type": "code",
   "execution_count": 47,
   "id": "3980e355",
   "metadata": {},
   "outputs": [
    {
     "name": "stderr",
     "output_type": "stream",
     "text": [
      "<>:1: SyntaxWarning: invalid escape sequence '\\`'\n",
      "<>:1: SyntaxWarning: invalid escape sequence '\\`'\n",
      "/var/folders/nj/yxdzffl952qbglpsnwvv19q80000gn/T/ipykernel_77194/2666867838.py:1: SyntaxWarning: invalid escape sequence '\\`'\n",
      "  malformed_llm_response = \"\"\"\\`\\`\\`sql\n"
     ]
    }
   ],
   "source": [
    "malformed_llm_response = \"\"\"\\`\\`\\`sql\n",
    "SELLECT COUNT(*) \n",
    "FROM product\n",
    "WHERE status = 'RMA;SELECT * FROM USERS;sql'\n",
    "\\`\\`\\`\"\"\""
   ]
  },
  {
   "cell_type": "code",
   "execution_count": 48,
   "id": "9c6fd937",
   "metadata": {},
   "outputs": [],
   "source": [
    "perform_first_regex_search(malformed_llm_response)"
   ]
  },
  {
   "cell_type": "code",
   "execution_count": 49,
   "id": "45e97fe6",
   "metadata": {},
   "outputs": [
    {
     "name": "stdout",
     "output_type": "stream",
     "text": [
      "SELECT * FROM USERS\n"
     ]
    }
   ],
   "source": [
    "perform_second_regex_search(malformed_llm_response)"
   ]
  },
  {
   "cell_type": "code",
   "execution_count": null,
   "id": "47e179dc",
   "metadata": {},
   "outputs": [],
   "source": []
  }
 ],
 "metadata": {
  "kernelspec": {
   "display_name": ".venv",
   "language": "python",
   "name": "python3"
  },
  "language_info": {
   "codemirror_mode": {
    "name": "ipython",
    "version": 3
   },
   "file_extension": ".py",
   "mimetype": "text/x-python",
   "name": "python",
   "nbconvert_exporter": "python",
   "pygments_lexer": "ipython3",
   "version": "3.12.0"
  }
 },
 "nbformat": 4,
 "nbformat_minor": 5
}
